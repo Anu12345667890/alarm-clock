{
 "cells": [
  {
   "cell_type": "code",
   "execution_count": 1,
   "id": "eaf9d13f",
   "metadata": {},
   "outputs": [
    {
     "name": "stdout",
     "output_type": "stream",
     "text": [
      "Requirement already satisfied: playsound in c:\\users\\kumari anjali\\anaconda3\\lib\\site-packages (1.3.0)\n",
      "Note: you may need to restart the kernel to use updated packages.\n"
     ]
    }
   ],
   "source": [
    "pip install playsound"
   ]
  },
  {
   "cell_type": "code",
   "execution_count": 2,
   "id": "ecd8f4ca",
   "metadata": {},
   "outputs": [
    {
     "name": "stdout",
     "output_type": "stream",
     "text": [
      "Enter the hour: 3\n",
      "Enter the minute: 10\n",
      "Enter am or pm: pm\n",
      "Waiting for 3 10 pm\n",
      "Time to wake up!\n"
     ]
    }
   ],
   "source": [
    "import os\n",
    "import datetime\n",
    "from playsound import playsound\n",
    "\n",
    "os.system('clear')\n",
    "alarmH = int(input(\"Enter the hour: \"))\n",
    "alarmM = int(input(\"Enter the minute: \"))\n",
    "ampm = str(input(\"Enter am or pm: \"))\n",
    "os.system('clear')\n",
    "print(\"Waiting for\", alarmH, alarmM, ampm)\n",
    "\n",
    "if ampm.lower() == 'pm':\n",
    "    alarmH = alarmH + 12\n",
    "while True:\n",
    "    current_time = datetime.datetime.now()\n",
    "    \n",
    "\n",
    "    if alarmH == current_time.hour and alarmM == current_time.minute:\n",
    "        print(\"Time to wake up!\")\n",
    "        playsound('C:\\\\Users\\\\KUMARI ANJALI\\\\Desktop\\\\Alarmss.mp3')\n",
    "        break"
   ]
  },
  {
   "cell_type": "code",
   "execution_count": null,
   "id": "22efc265",
   "metadata": {},
   "outputs": [],
   "source": []
  },
  {
   "cell_type": "code",
   "execution_count": null,
   "id": "d155ba71",
   "metadata": {},
   "outputs": [],
   "source": []
  }
 ],
 "metadata": {
  "kernelspec": {
   "display_name": "Python 3 (ipykernel)",
   "language": "python",
   "name": "python3"
  },
  "language_info": {
   "codemirror_mode": {
    "name": "ipython",
    "version": 3
   },
   "file_extension": ".py",
   "mimetype": "text/x-python",
   "name": "python",
   "nbconvert_exporter": "python",
   "pygments_lexer": "ipython3",
   "version": "3.10.9"
  }
 },
 "nbformat": 4,
 "nbformat_minor": 5
}
